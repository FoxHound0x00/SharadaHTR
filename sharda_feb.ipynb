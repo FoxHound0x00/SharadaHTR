{
 "cells": [
  {
   "cell_type": "markdown",
   "metadata": {},
   "source": [
    "## Pre-Req"
   ]
  },
  {
   "cell_type": "code",
   "execution_count": 25,
   "metadata": {},
   "outputs": [
    {
     "name": "stdout",
     "output_type": "stream",
     "text": [
      "Looking in indexes: https://pypi.org/simple, https://pypi.ngc.nvidia.com\n",
      "Requirement already satisfied: imageio in ./sharada_env/lib/python3.10/site-packages (2.33.1)\n",
      "Requirement already satisfied: matplotlib in ./sharada_env/lib/python3.10/site-packages (3.8.2)\n",
      "Requirement already satisfied: opencv-python in ./sharada_env/lib/python3.10/site-packages (4.9.0.80)\n",
      "Requirement already satisfied: pandas in ./sharada_env/lib/python3.10/site-packages (2.1.4)\n",
      "Requirement already satisfied: pillow in ./sharada_env/lib/python3.10/site-packages (10.2.0)\n",
      "Requirement already satisfied: python-Levenshtein in ./sharada_env/lib/python3.10/site-packages (0.23.0)\n",
      "Requirement already satisfied: scikit-image in ./sharada_env/lib/python3.10/site-packages (0.22.0)\n",
      "Requirement already satisfied: scipy in ./sharada_env/lib/python3.10/site-packages (1.11.4)\n",
      "Requirement already satisfied: torch in ./sharada_env/lib/python3.10/site-packages (2.1.2)\n",
      "Requirement already satisfied: torchaudio in ./sharada_env/lib/python3.10/site-packages (2.1.2)\n",
      "Requirement already satisfied: torchvision in ./sharada_env/lib/python3.10/site-packages (0.16.2)\n",
      "Requirement already satisfied: torchinfo in ./sharada_env/lib/python3.10/site-packages (1.8.0)\n",
      "Collecting tqdm\n",
      "  Downloading tqdm-4.66.1-py3-none-any.whl (78 kB)\n",
      "\u001b[2K     \u001b[90m━━━━━━━━━━━━━━━━━━━━━━━━━━━━━━━━━━━━━━━━\u001b[0m \u001b[32m78.3/78.3 KB\u001b[0m \u001b[31m1.8 MB/s\u001b[0m eta \u001b[36m0:00:00\u001b[0ma \u001b[36m0:00:01\u001b[0m\n",
      "\u001b[?25hRequirement already satisfied: numpy in ./sharada_env/lib/python3.10/site-packages (from imageio) (1.26.3)\n",
      "Requirement already satisfied: python-dateutil>=2.7 in ./sharada_env/lib/python3.10/site-packages (from matplotlib) (2.8.2)\n",
      "Requirement already satisfied: contourpy>=1.0.1 in ./sharada_env/lib/python3.10/site-packages (from matplotlib) (1.2.0)\n",
      "Requirement already satisfied: packaging>=20.0 in ./sharada_env/lib/python3.10/site-packages (from matplotlib) (23.2)\n",
      "Requirement already satisfied: kiwisolver>=1.3.1 in ./sharada_env/lib/python3.10/site-packages (from matplotlib) (1.4.5)\n",
      "Requirement already satisfied: pyparsing>=2.3.1 in ./sharada_env/lib/python3.10/site-packages (from matplotlib) (3.1.1)\n",
      "Requirement already satisfied: cycler>=0.10 in ./sharada_env/lib/python3.10/site-packages (from matplotlib) (0.12.1)\n",
      "Requirement already satisfied: fonttools>=4.22.0 in ./sharada_env/lib/python3.10/site-packages (from matplotlib) (4.47.2)\n",
      "Requirement already satisfied: tzdata>=2022.1 in ./sharada_env/lib/python3.10/site-packages (from pandas) (2023.4)\n",
      "Requirement already satisfied: pytz>=2020.1 in ./sharada_env/lib/python3.10/site-packages (from pandas) (2023.3.post1)\n",
      "Requirement already satisfied: Levenshtein==0.23.0 in ./sharada_env/lib/python3.10/site-packages (from python-Levenshtein) (0.23.0)\n",
      "Requirement already satisfied: rapidfuzz<4.0.0,>=3.1.0 in ./sharada_env/lib/python3.10/site-packages (from Levenshtein==0.23.0->python-Levenshtein) (3.6.1)\n",
      "Requirement already satisfied: tifffile>=2022.8.12 in ./sharada_env/lib/python3.10/site-packages (from scikit-image) (2023.12.9)\n",
      "Requirement already satisfied: networkx>=2.8 in ./sharada_env/lib/python3.10/site-packages (from scikit-image) (3.2.1)\n",
      "Requirement already satisfied: lazy_loader>=0.3 in ./sharada_env/lib/python3.10/site-packages (from scikit-image) (0.3)\n",
      "Requirement already satisfied: nvidia-curand-cu12==10.3.2.106 in ./sharada_env/lib/python3.10/site-packages (from torch) (10.3.2.106)\n",
      "Requirement already satisfied: nvidia-cusolver-cu12==11.4.5.107 in ./sharada_env/lib/python3.10/site-packages (from torch) (11.4.5.107)\n",
      "Requirement already satisfied: nvidia-cusparse-cu12==12.1.0.106 in ./sharada_env/lib/python3.10/site-packages (from torch) (12.1.0.106)\n",
      "Requirement already satisfied: sympy in ./sharada_env/lib/python3.10/site-packages (from torch) (1.12)\n",
      "Requirement already satisfied: triton==2.1.0 in ./sharada_env/lib/python3.10/site-packages (from torch) (2.1.0)\n",
      "Requirement already satisfied: nvidia-nvtx-cu12==12.1.105 in ./sharada_env/lib/python3.10/site-packages (from torch) (12.1.105)\n",
      "Requirement already satisfied: fsspec in ./sharada_env/lib/python3.10/site-packages (from torch) (2023.12.2)\n",
      "Requirement already satisfied: nvidia-cuda-cupti-cu12==12.1.105 in ./sharada_env/lib/python3.10/site-packages (from torch) (12.1.105)\n",
      "Requirement already satisfied: nvidia-cublas-cu12==12.1.3.1 in ./sharada_env/lib/python3.10/site-packages (from torch) (12.1.3.1)\n",
      "Requirement already satisfied: nvidia-nccl-cu12==2.18.1 in ./sharada_env/lib/python3.10/site-packages (from torch) (2.18.1)\n",
      "Requirement already satisfied: filelock in ./sharada_env/lib/python3.10/site-packages (from torch) (3.13.1)\n",
      "Requirement already satisfied: nvidia-cuda-nvrtc-cu12==12.1.105 in ./sharada_env/lib/python3.10/site-packages (from torch) (12.1.105)\n",
      "Requirement already satisfied: nvidia-cufft-cu12==11.0.2.54 in ./sharada_env/lib/python3.10/site-packages (from torch) (11.0.2.54)\n",
      "Requirement already satisfied: typing-extensions in ./sharada_env/lib/python3.10/site-packages (from torch) (4.9.0)\n",
      "Requirement already satisfied: nvidia-cudnn-cu12==8.9.2.26 in ./sharada_env/lib/python3.10/site-packages (from torch) (8.9.2.26)\n",
      "Requirement already satisfied: jinja2 in ./sharada_env/lib/python3.10/site-packages (from torch) (3.1.3)\n",
      "Requirement already satisfied: nvidia-cuda-runtime-cu12==12.1.105 in ./sharada_env/lib/python3.10/site-packages (from torch) (12.1.105)\n",
      "Requirement already satisfied: nvidia-nvjitlink-cu12 in ./sharada_env/lib/python3.10/site-packages (from nvidia-cusolver-cu12==11.4.5.107->torch) (12.3.101)\n",
      "Requirement already satisfied: requests in ./sharada_env/lib/python3.10/site-packages (from torchvision) (2.31.0)\n",
      "Requirement already satisfied: six>=1.5 in ./sharada_env/lib/python3.10/site-packages (from python-dateutil>=2.7->matplotlib) (1.16.0)\n",
      "Requirement already satisfied: MarkupSafe>=2.0 in ./sharada_env/lib/python3.10/site-packages (from jinja2->torch) (2.1.3)\n",
      "Requirement already satisfied: urllib3<3,>=1.21.1 in ./sharada_env/lib/python3.10/site-packages (from requests->torchvision) (2.1.0)\n",
      "Requirement already satisfied: idna<4,>=2.5 in ./sharada_env/lib/python3.10/site-packages (from requests->torchvision) (3.6)\n",
      "Requirement already satisfied: certifi>=2017.4.17 in ./sharada_env/lib/python3.10/site-packages (from requests->torchvision) (2023.11.17)\n",
      "Requirement already satisfied: charset-normalizer<4,>=2 in ./sharada_env/lib/python3.10/site-packages (from requests->torchvision) (3.3.2)\n",
      "Requirement already satisfied: mpmath>=0.19 in ./sharada_env/lib/python3.10/site-packages (from sympy->torch) (1.3.0)\n",
      "Installing collected packages: tqdm\n",
      "Successfully installed tqdm-4.66.1\n"
     ]
    }
   ],
   "source": [
    "!pip3 install imageio matplotlib opencv-python pandas pillow python-Levenshtein scikit-image scipy torch torchaudio torchvision torchinfo tqdm"
   ]
  },
  {
   "cell_type": "markdown",
   "metadata": {},
   "source": [
    "## Dataset structuring "
   ]
  },
  {
   "cell_type": "code",
   "execution_count": 9,
   "metadata": {},
   "outputs": [],
   "source": [
    "import os\n",
    "import shutil\n",
    "import re\n",
    "\n",
    "DIR = \"data/output/\"\n",
    "DST_DIR = \"data/temp_annot/\"\n",
    "\n",
    "os.makedirs(DST_DIR,exist_ok=True)\n",
    "files = os.listdir(DIR)\n",
    "\n",
    "\n",
    "for f in files:\n",
    "    if f.endswith('.json'):\n",
    "        json_file = os.path.join(DIR,f)\n",
    "        img_file = os.path.join(DIR,os.path.splitext(f)[0]+'.png')\n",
    "        if os.path.isfile(img_file):\n",
    "            shutil.copy(img_file,DST_DIR)\n",
    "            shutil.copy(json_file,DST_DIR)"
   ]
  },
  {
   "cell_type": "code",
   "execution_count": 10,
   "metadata": {},
   "outputs": [],
   "source": [
    "import json\n",
    "import random\n",
    "import string\n",
    "import numpy as np\n",
    "from PIL import Image, ImageDraw, ImageOps\n",
    "\n",
    "os.makedirs(\"data/temp_annot/\",exist_ok=True)\n",
    "os.makedirs(\"data/extracted_dir/\",exist_ok=True)\n",
    "\n",
    "src_dir =  \"data/temp_annot/\"\n",
    "dest_dir = \"data/extracted_dir/\"\n",
    "\n",
    "for file in os.listdir(src_dir):\n",
    "    if not file.endswith('.json'):\n",
    "\n",
    "        img_path = os.path.join(src_dir,file)\n",
    "        json_path = os.path.join(src_dir,os.path.splitext(file)[0]+'.json')\n",
    "\n",
    "        if os.path.exists(json_path):\n",
    "            with open(json_path, 'r', encoding='utf-8') as f:\n",
    "                annotation = json.load(f)\n",
    "\n",
    "            image_height = annotation['imageHeight']\n",
    "            image_width = annotation['imageWidth']\n",
    "            image = Image.open(img_path)\n",
    "\n",
    "\n",
    "            for shape in annotation['shapes']:\n",
    "                shape_type = shape['shape_type']\n",
    "                group_id = shape['group_id']\n",
    "                label = shape['label']\n",
    "                coordinates = shape['points']\n",
    "                cropped_image = Image.new('RGBA', (image_width, image_height), (0, 0, 0, 0))\n",
    "\n",
    "                draw = ImageDraw.Draw(cropped_image)\n",
    "                random_string = ''.join(random.choices(string.ascii_letters + string.digits, k=15))\n",
    "                int_coordinates = [(int(point[0]), int(point[1])) for point in coordinates]\n",
    "                draw.polygon(int_coordinates, fill=(255, 255, 255, 255))\n",
    "\n",
    "\n",
    "                if shape_type == 'polygon':\n",
    "                    mask = ImageOps.invert(cropped_image.convert('RGB'))\n",
    "\n",
    "                    masked_image = Image.new(\"1\", image.size)\n",
    "                    masked_image.paste(image, (0, 0), mask=cropped_image)\n",
    "                    bbox = masked_image.getbbox()\n",
    "\n",
    "                    if bbox:\n",
    "                        cropped_image = masked_image.crop(bbox)\n",
    "                        rectangular_image = Image.new(\"1\", (cropped_image.width, cropped_image.height), (255, 255, 255))\n",
    "                        rectangular_image.paste(cropped_image, (0, 0), cropped_image)\n",
    "                        new_ImageName = os.path.join(dest_dir, f\"{random_string}.jpg\")\n",
    "                        new_LabelName = os.path.join(dest_dir, f\"{random_string}.txt\")\n",
    "                        rectangular_image.save(new_ImageName, format='JPEG', quality=100)\n",
    "                        open(new_LabelName, \"w\", encoding=\"utf-8\").write(label)\n",
    "\n",
    "                if shape_type == 'rectangle':\n",
    "                    x_coordinates = [point[0] for point in int_coordinates]\n",
    "                    y_coordinates = [point[1] for point in int_coordinates]\n",
    "                    left = min(x_coordinates)\n",
    "                    top = min(y_coordinates)\n",
    "                    right = max(x_coordinates)\n",
    "                    bottom = max(y_coordinates)\n",
    "                    cropped_image = image.crop((left, top, right, bottom))\n",
    "                    new_ImageName = os.path.join(dest_dir, f\"{random_string}.jpg\")\n",
    "                    new_LabelName = os.path.join(dest_dir, f\"{random_string}.txt\")\n",
    "                    cropped_image.save(new_ImageName, format='JPEG', quality=100)\n",
    "                    open(new_LabelName, \"w\", encoding=\"utf-8\").write(label)\n",
    "\n",
    "# mask = ImageOps.invert(cropped_image.convert('RGB'))\n",
    "# 1 (1-bit pixels, black and white, stored with one pixel per byte)\n",
    "# L (8-bit pixels, grayscale)\n",
    "# RGB (3x8-bit pixels, true color)\n",
    "# RGBA (4x8-bit pixels, true color with transparency mask)"
   ]
  },
  {
   "cell_type": "markdown",
   "metadata": {},
   "source": [
    "## Levenshtein Distance"
   ]
  },
  {
   "cell_type": "code",
   "execution_count": 1,
   "metadata": {},
   "outputs": [],
   "source": [
    "def levenshtein_distance(str1, str2):\n",
    "    len_str1 = len(str1) + 1\n",
    "    len_str2 = len(str2) + 1\n",
    "\n",
    "    matrix = [[0] * len_str2 for _ in range(len_str1)]\n",
    "\n",
    "    for i in range(len_str1):\n",
    "        matrix[i][0] = i\n",
    "    for j in range(len_str2):\n",
    "        matrix[0][j] = j\n",
    "\n",
    "    # Calculate dist\n",
    "    for i in range(1, len_str1):\n",
    "        for j in range(1, len_str2):\n",
    "            cost = 0 if str1[i - 1] == str2[j - 1] else 1\n",
    "            matrix[i][j] = min(\n",
    "                matrix[i - 1][j] + 1,  # Deletion\n",
    "                matrix[i][j - 1] + 1,  # Insertion\n",
    "                matrix[i - 1][j - 1] + cost,  # Substitution\n",
    "            )\n",
    "\n",
    "    return matrix[len_str1 - 1][len_str2 - 1]"
   ]
  },
  {
   "cell_type": "markdown",
   "metadata": {},
   "source": [
    "## Dataset"
   ]
  },
  {
   "cell_type": "code",
   "execution_count": 2,
   "metadata": {},
   "outputs": [],
   "source": [
    "import pandas as pd\n",
    "import numpy as np\n",
    "import os\n",
    "from torch.utils.data import Dataset\n",
    "from PIL import Image\n",
    "import cv2\n",
    "\n",
    "class SharadaDataset(Dataset):\n",
    "    \"\"\"Scripture dataset Class.\"\"\"\n",
    "\n",
    "    def __init__(self, files_dir, transform=None, char_dict=None):\n",
    "        \"\"\"\n",
    "        Args:\n",
    "            files_dir (string): Path to the txt file with labels.\n",
    "            transform (callable, optional): Optional transform to be applied\n",
    "                on a sample.\n",
    "        \"\"\"\n",
    "\n",
    "        self.files_dir = files_dir\n",
    "        self.transform = transform\n",
    "        self.max_len = 0\n",
    "        self.char_list = \" -ँंःअआइईउऊऋऌऍऎएऐऑऒओऔकखगघङचछजझञटठडढणतथदधनऩपफबभमयरऱलळऴवशषसह़ऽािीुूृॄॅेैॉॊोौ्ॐ॒॑॓॔क़ख़ग़ज़ड़ढ़फ़य़ॠॢ।॥०१२३४५६७८९॰ॱॲॻॼॽॾ≈–|\"\n",
    "        if self.char_list is not None:\n",
    "            chars = sorted(list(set(self.char_list)))\n",
    "            self.char_dict = {c:i for i,c in enumerate(chars)}\n",
    "        # print(f\"Char Dict{self.char_dict}\")\n",
    "        self.idx_to_char = {k:v for v,k in self.char_dict.items()}\n",
    "        f_ = os.listdir(self.files_dir)\n",
    "        self.files = list(set([i.split('.')[0] for i in f_]))\n",
    "\n",
    "    def __len__(self):\n",
    "        return len(self.files)\n",
    "\n",
    "    def __getitem__(self, idx):\n",
    "        img_name = self.files[idx] + '.jpg'\n",
    "        img_filepath = os.path.join(self.files_dir,img_name)\n",
    "        try:\n",
    "            image = Image.open(img_filepath)\n",
    "\n",
    "        except OSError:\n",
    "            image = np.random.randint(0, 255, size=(50, 100), dtype=np.uint8)\n",
    "\n",
    "        txt_name = self.files[idx] + '.txt'\n",
    "        txt_filepath = os.path.join(self.files_dir,txt_name)\n",
    "        try:\n",
    "            with open(txt_filepath,'r') as file:\n",
    "                label = file.read()\n",
    "\n",
    "        except OSError:\n",
    "            label = \"\"\n",
    "\n",
    "        if len(label) > self.max_len:\n",
    "            self.max_len = len(label)\n",
    "\n",
    "        sample = {'image': image, 'label': label}\n",
    "        # print(sample)\n",
    "        if self.transform:\n",
    "            sample = self.transform(sample)\n",
    "        return sample"
   ]
  },
  {
   "cell_type": "markdown",
   "metadata": {},
   "source": [
    "## Dataloader"
   ]
  },
  {
   "cell_type": "code",
   "execution_count": 3,
   "metadata": {},
   "outputs": [],
   "source": [
    "# Dataloader Class\n",
    "import torch\n",
    "from torch.utils.data import DataLoader\n",
    "from torch.utils.data.sampler import SubsetRandomSampler\n",
    "import numpy as np\n",
    "\n",
    "class SharadaDataLoader(object):\n",
    "\n",
    "    def __init__(self, ds, batch_size=(16, 16), validation_split=0.2,\n",
    "                 shuffle=True, seed=42, device='cpu', padding_symbol=9999):\n",
    "        assert isinstance(ds, SharadaDataset)\n",
    "        assert isinstance(batch_size, tuple)\n",
    "        assert isinstance(validation_split, float)\n",
    "        assert isinstance(shuffle, bool)\n",
    "        assert isinstance(seed, int)\n",
    "        assert isinstance(device, str)\n",
    "\n",
    "        self.ds = ds\n",
    "        self.batch_size = batch_size\n",
    "        self.validation_split = validation_split\n",
    "        self.shuffle = shuffle\n",
    "        self.seed = seed\n",
    "        self.device = device\n",
    "        self.padding_symbol = padding_symbol\n",
    "\n",
    "    def  __call__(self):\n",
    "\n",
    "        dataset_size = len(self.ds)\n",
    "        indices = list(range(dataset_size))\n",
    "        split = int(np.floor(self.validation_split * dataset_size))\n",
    "\n",
    "        if self.shuffle:\n",
    "            np.random.seed(self.seed)\n",
    "            np.random.shuffle(indices)\n",
    "        train_indices, val_indices = indices[split:], indices[:split]\n",
    "\n",
    "        # Creating PT data samplers and loaders:\n",
    "        train_sampler = SubsetRandomSampler(train_indices)\n",
    "        valid_sampler = SubsetRandomSampler(val_indices)\n",
    "\n",
    "        # Dataloader\n",
    "        train_loader = DataLoader(self.ds, batch_size=self.batch_size[0],\n",
    "                                  sampler=train_sampler, collate_fn=self.collate_fn)\n",
    "        validation_loader = DataLoader(self.ds, batch_size=self.batch_size[1],\n",
    "                                       sampler=valid_sampler, collate_fn=self.collate_fn)\n",
    "\n",
    "        return train_loader, validation_loader\n",
    "\n",
    "\n",
    "\n",
    "    def collate_fn(self, batch):\n",
    "        \"\"\"Creates mini-batch tensors from the list of tuples (image, label).\n",
    "\n",
    "        We should build custom collate_fn rather than using default collate_fn,\n",
    "        because merging label tensor creates jagged array.\n",
    "        Args:\n",
    "            data: list of tuple (image, caption).\n",
    "                - image: torch tensor of shape (1, 128, 32).\n",
    "                - label: torch tensor of shape (?); variable length.\n",
    "        Returns:\n",
    "            images: torch tensor of shape (batch_size, chan_in, height, width).\n",
    "            targets: torch tensor of shape (sum(target_lengths)).\n",
    "            lengths: torch tensor; length of each target label.\n",
    "        \"\"\"\n",
    "\n",
    "        # Sort a data list by caption length (descending order).\n",
    "        #sample.sort(key=lambda x: len(x[1]), reverse=True)\n",
    "        images, labels = [b.get('image') for b in batch], [b.get('label') for b in batch]\n",
    "\n",
    "        # print(f\"Collate Func: {labels}\")\n",
    "        # for i in images:\n",
    "        #   cv2_imshow(i.permute((1, 2, 0)).cpu().numpy().astype('uint8'))\n",
    "\n",
    "        # Merge images (from tuple of 3D tensor to 4D tensor).\n",
    "        images = torch.stack(images, 0)\n",
    "\n",
    "        # Merge captions (from tuple of 1D tensor to 2D tensor).\n",
    "        lengths = [len(label) for label in labels]\n",
    "\n",
    "        _label = [] # List of tensors with variable lengths\n",
    "\n",
    "\n",
    "        for i, label in enumerate(labels):\n",
    "            label_ = [self.ds.char_dict.get(letter) for letter in label] # Temporary encoded label\n",
    "            _label.append(torch.tensor(label_))\n",
    "\n",
    "        targets = nn.utils.rnn.pad_sequence(\n",
    "            sequences=_label,\n",
    "            batch_first=True,\n",
    "            padding_value=int(self.padding_symbol),\n",
    "        )\n",
    "        # print(f\"Targets: {targets}, Targets Shape: {targets.shape}\")\n",
    "\n",
    "\n",
    "        # max_label_len = max(lengths)\n",
    "        # # max_label_len = 150\n",
    "        # targets = []\n",
    "        # for j, label in enumerate(labels):\n",
    "        #   temp = [self.ds.char_dict.get(letter) for letter in label]\n",
    "        #   # print(f\"Label: {label}, Temp: {temp}\")\n",
    "        #   temp.extend([self.padding_symbol] * (max_label_len - len(label)))\n",
    "        #   targets.append(torch.tensor(temp))\n",
    "        #   # targets.append([torch.tensor([self.ds.char_dict.get(letter) for letter in label]).long()])\n",
    "\n",
    "        # targets = torch.stack(targets, 0)\n",
    "\n",
    "        # print(f\" Targets Shape {targets.shape}\")\n",
    "        lengths = torch.tensor(lengths)\n",
    "\n",
    "        if self.device == 'cpu':\n",
    "            dev = torch.device('cpu')\n",
    "        else:\n",
    "            dev = torch.device('cuda')\n",
    "\n",
    "        return images.to(dev), targets.to(dev), lengths.to(dev)"
   ]
  },
  {
   "cell_type": "markdown",
   "metadata": {},
   "source": [
    "## Model"
   ]
  },
  {
   "cell_type": "code",
   "execution_count": 4,
   "metadata": {},
   "outputs": [],
   "source": [
    "import torch\n",
    "from torch import nn\n",
    "from torch.nn import functional as F\n",
    "\n",
    "device = torch.device(\"cuda\" if torch.cuda.is_available() else \"cpu\")\n",
    "\n",
    "class ResidualBlock(nn.Module):\n",
    "    def __init__(self, in_channels, out_channels, stride=1):\n",
    "        super(ResidualBlock, self).__init__()\n",
    "        self.conv1 = nn.Conv2d(in_channels, out_channels, kernel_size=3, stride=stride, padding=1, bias=False)\n",
    "        self.bn1 = nn.BatchNorm2d(out_channels)\n",
    "        self.relu = nn.ReLU(inplace=False)\n",
    "        self.conv2 = nn.Conv2d(out_channels, out_channels, kernel_size=3, stride=1, padding=1, bias=False)\n",
    "        self.bn2 = nn.BatchNorm2d(out_channels)\n",
    "        self.downsample = nn.Sequential()\n",
    "        if stride != 1 or in_channels != out_channels:\n",
    "            self.downsample = nn.Sequential(\n",
    "                nn.Conv2d(in_channels, out_channels, kernel_size=1, stride=stride, bias=False),\n",
    "                nn.BatchNorm2d(out_channels)\n",
    "            )\n",
    "\n",
    "    def forward(self, x):\n",
    "        identity = x\n",
    "        out = self.conv1(x)\n",
    "        out = self.bn1(out)\n",
    "        out = self.relu(out)\n",
    "        out = self.conv2(out)\n",
    "        out = self.bn2(out)\n",
    "        out += self.downsample(identity)\n",
    "        out = self.relu(out)\n",
    "        return out\n",
    "\n",
    "class CNN(nn.Module):\n",
    "    def __init__(self, input_channels, hidden_size):\n",
    "        super(CNN, self).__init__()\n",
    "        self.conv1 = nn.Conv2d(input_channels, 64, kernel_size=3, stride=1, padding=1, bias=False)\n",
    "        self.bn1 = nn.BatchNorm2d(64)\n",
    "        self.relu = nn.ReLU(inplace=False)\n",
    "        self.resblocks = nn.Sequential(\n",
    "            ResidualBlock(64, 64),\n",
    "            ResidualBlock(64, 128, stride=2),\n",
    "            ResidualBlock(128, 256, stride=2)\n",
    "        )\n",
    "        self.conv2 = nn.Conv2d(256, hidden_size, kernel_size=1, stride=1, padding=0, bias=False)\n",
    "        self.pool = nn.AdaptiveAvgPool2d((1, None))\n",
    "\n",
    "    def forward(self, x):\n",
    "        x = self.conv1(x)\n",
    "        x = self.bn1(x)\n",
    "        x = self.relu(x)\n",
    "        x = self.resblocks(x)\n",
    "        x = self.conv2(x)\n",
    "        x = self.pool(x)\n",
    "        return x\n",
    "\n",
    "# class CNN(nn.Module):\n",
    "#   def __init__(self,input_channels, hidden_size):\n",
    "#     super(CNN, self).__init__()\n",
    "#     self.cnn = nn.Sequential(\n",
    "#         nn.Conv2d(input_channels, 64, kernel_size=(3,3), stride=1, padding=1),\n",
    "#         # nn.ReLU(inplace=False),\n",
    "#         nn.MaxPool2d(kernel_size=(2,2)<<),\n",
    "#         nn.Conv2d(64, 128, kernel_size=3, stride=1, padding=1),\n",
    "#         nn.ReLU(inplace=False),\n",
    "#         nn.MaxPool2d(2, 2),\n",
    "#         nn.Conv2d(128, 256, kernel_size=3, stride=1, padding=1),\n",
    "#         nn.ReLU(inplace=False),\n",
    "#         nn.BatchNorm2d(256),\n",
    "#         nn.MaxPool2d(2, 2),\n",
    "#         nn.Conv2d(256, hidden_size, kernel_size=3, stride=1, padding=1),\n",
    "#         nn.ReLU(inplace=False),\n",
    "#         nn.AdaptiveAvgPool2d((1, None))\n",
    "#     )\n",
    "#   def forward(self, x):\n",
    "#     x = self.cnn(x)\n",
    "#     return x\n",
    "\n",
    "class BiLSTM(nn.Module):\n",
    "    def __init__(self, input_size, hidden_size, num_layers, num_classes):\n",
    "        super(BiLSTM, self).__init__()\n",
    "        self.lstm = nn.LSTM(input_size, hidden_size, num_layers, bidirectional=True, batch_first=True)\n",
    "        self.fc = nn.Linear(hidden_size * 2, num_classes)\n",
    "\n",
    "    def forward(self, x):\n",
    "        out, _ = self.lstm(x)\n",
    "        T, b, h = out.size() # T - time_steps / inp_len\n",
    "        # print(out.size())\n",
    "        # out = self.fc(out[:, -1, :])\n",
    "\n",
    "        t_rec = out.reshape(T * b, h)\n",
    "        out = self.fc(t_rec) # [T * b, nOut]\n",
    "        out = out.reshape(T, b, -1)\n",
    "\n",
    "        return out\n",
    "\n",
    "class CRNN(nn.Module):\n",
    "    def __init__(self, input_channels, hidden_size, num_layers, num_classes):\n",
    "        super(CRNN, self).__init__()\n",
    "        self.cnn = CNN(input_channels, hidden_size)\n",
    "        self.rnn = BiLSTM(hidden_size, hidden_size, num_layers, num_classes)\n",
    "\n",
    "    def forward(self, x):\n",
    "        x = self.cnn(x)\n",
    "        # print(f\"Output from CNN: {x} , Output Shape {x.shape} \")\n",
    "        # print(\"shape\",x.shape)\n",
    "        x = x.squeeze(2)\n",
    "        # print(\"after squeeze\", x.shape )\n",
    "        x = x.permute(2, 0, 1)\n",
    "        x = self.rnn(x)\n",
    "        # print(f\"Output from RNN: {x} , Output Shape {x.shape} \")\n",
    "        x = torch.nn.functional.log_softmax(x, dim=2) # Behaves Differently when batch_first is specified https://pytorch.org/docs/stable/generated/torch.nn.LSTM.html\n",
    "        # print(x.shape)\n",
    "        return x"
   ]
  },
  {
   "cell_type": "markdown",
   "metadata": {},
   "source": [
    "## Transforms"
   ]
  },
  {
   "cell_type": "code",
   "execution_count": 5,
   "metadata": {},
   "outputs": [],
   "source": [
    "# transforms\n",
    "# Transform and Data Augmentation\n",
    "from skimage import transform, color, filters\n",
    "import cv2 as cv\n",
    "import numpy as np\n",
    "import torch\n",
    "from torchvision.transforms import Normalize\n",
    "import torchvision.transforms.functional as F\n",
    "\n",
    "class PadResize(object):\n",
    "    def __init__(self, output_size):\n",
    "        assert isinstance(output_size, (tuple))\n",
    "        self.output_size = output_size\n",
    "\n",
    "    def __call__(self, sample):\n",
    "        image, label = sample['image'], sample['label']\n",
    "        self.w_f, self.h_f = self.output_size\n",
    "        ratio_final = self.w_f / self.h_f\n",
    "        self.w, self.h = image.size\n",
    "        self.ratio_current = self.w / self.h\n",
    "\n",
    "        # check if the original and final aspect ratios are the same within a margin\n",
    "        if round(self.ratio_current, 2) != round(ratio_final, 2):\n",
    "            # padding to preserve aspect ratio\n",
    "            hp = int(self.w/ratio_final - self.h)\n",
    "            wp = int(ratio_final * self.h - self.w)\n",
    "\n",
    "            if hp > 0 and wp < 0:\n",
    "                hp = hp // 2\n",
    "                image = F.pad(image, (0, hp, 0, hp), 0, \"constant\")\n",
    "                image = F.resize(image, [self.h_f, self.w_f])\n",
    "            elif wp > 0 and hp < 0:\n",
    "                wp = wp // 2\n",
    "                image = F.pad(image, (wp, 0, wp, 0), 0, \"constant\")\n",
    "                image = F.resize(image, [self.h_f, self.w_f])\n",
    "            else:\n",
    "                image = F.resize(image,[self.h_f, self.w_f])\n",
    "        else:\n",
    "            image = F.resize(image,[self.h_f, self.w_f])\n",
    "\n",
    "\n",
    "        return {'image': image, 'label': label}\n",
    "\n",
    "class Deskew(object):\n",
    "    \"\"\"Deskew handwriting samples\"\"\"\n",
    "\n",
    "    def __call__(self, sample):\n",
    "        image, label = sample['image'], sample['label']\n",
    "\n",
    "        try:\n",
    "            threshold = filters.threshold_otsu(image)\n",
    "        except ValueError:\n",
    "            return {'image':image, 'label':label}\n",
    "\n",
    "        binary = image.copy() < threshold\n",
    "\n",
    "        # array of alpha values\n",
    "        alphas = np.arange(-1, 1.1, 0.25)\n",
    "        alpha_res = np.array([])\n",
    "        alpha_params = []\n",
    "\n",
    "        for a in alphas:\n",
    "            alpha_sum = 0\n",
    "            shift_x = np.max([-a*binary.shape[0], 0])\n",
    "            M = np.array([[1, a, shift_x],\n",
    "                          [0,1,0]], dtype=np.float64)\n",
    "            img_size = (np.int(binary.shape[1] + np.ceil(np.abs(a*binary.shape[0]))), binary.shape[0])\n",
    "            alpha_params.append((M, img_size))\n",
    "\n",
    "\n",
    "            img_shear = cv.warpAffine(src=binary.astype(np.uint8),\n",
    "                                      M=M, dsize=img_size,\n",
    "                                      flags=cv.INTER_NEAREST)\n",
    "\n",
    "            for i in range(0, img_shear.shape[1]):\n",
    "                if not np.any(img_shear[:, i]):\n",
    "                    continue\n",
    "\n",
    "                h_alpha = np.sum(img_shear[:, i])\n",
    "                fgr_pos = np.where(img_shear[:, i] == 1)\n",
    "                delta_y_alpha = fgr_pos[0][-1] - fgr_pos[0][0] + 1\n",
    "\n",
    "                if h_alpha == delta_y_alpha:\n",
    "                    alpha_sum += h_alpha**2\n",
    "\n",
    "            alpha_res = np.append(alpha_res, alpha_sum)\n",
    "\n",
    "        best_M, best_size = alpha_params[alpha_res.argmax()]\n",
    "        deskewed_img = cv.warpAffine(src=image, M=best_M, dsize=best_size,\n",
    "                                      flags=cv.INTER_LINEAR,\n",
    "                                      borderMode=cv.BORDER_CONSTANT,\n",
    "                                      borderValue=255)\n",
    "\n",
    "        return {'image':deskewed_img, 'label':label}\n",
    "\n",
    "class toRGB(object):\n",
    "    \"\"\"Convert the ndarrys to RGB tensors.\n",
    "       Required if using ImageNet pretrained Resnet.\"\"\"\n",
    "\n",
    "    def __call__(self, sample):\n",
    "        image, label = sample['image'], sample['label']\n",
    "        image = color.gray2rgb(image)\n",
    "\n",
    "        return {'image': image, 'label': label}\n",
    "\n",
    "class ToTensor(object):\n",
    "    \"\"\"Convert ndarrays in sample to Tensors.\"\"\"\n",
    "\n",
    "    def __init__(self, rgb=True):\n",
    "        assert isinstance(rgb, bool)\n",
    "        self.rgb = rgb\n",
    "\n",
    "    def __call__(self, sample):\n",
    "        image, label = sample['image'], sample['label']\n",
    "\n",
    "        # swap color axis because\n",
    "        # numpy image: H x W x C\n",
    "        # torch image: C X H X W\n",
    "        image = F.to_tensor(image)\n",
    "        return {'image': image, 'label': label}\n",
    "\n",
    "class Grayscale(object):\n",
    "    \"\"\"Convert image to grayscale.\"\"\"\n",
    "\n",
    "    def __init__(self, num_output_channels=1):\n",
    "        self.channels = num_output_channels\n",
    "\n",
    "    def __call__(self, sample):\n",
    "        image, label = sample['image'], sample['label']\n",
    "        image = F.rgb_to_grayscale(image, num_output_channels=self.channels)\n",
    "        return {'image': image, 'label': label}\n",
    "\n",
    "class Normalize_Cust(object):\n",
    "    \"\"\"Normalise by channel mean and std\"\"\"\n",
    "\n",
    "    def __init__(self, mean, std):\n",
    "        self.mean = torch.tensor(mean, dtype=torch.float)\n",
    "        self.std = torch.tensor(std, dtype=torch.float)\n",
    "        self.norm = Normalize(mean, std)\n",
    "\n",
    "    def __call__(self, sample):\n",
    "        image, label = sample['image'], sample['label']\n",
    "        return {'image': self.norm(image), 'label': label}"
   ]
  },
  {
   "cell_type": "markdown",
   "metadata": {},
   "source": [
    "## Learner"
   ]
  },
  {
   "cell_type": "code",
   "execution_count": 6,
   "metadata": {},
   "outputs": [
    {
     "name": "stdout",
     "output_type": "stream",
     "text": [
      "cuda\n"
     ]
    }
   ],
   "source": [
    "import torch\n",
    "from torch import nn, optim\n",
    "import numpy as np\n",
    "import matplotlib.pyplot as plt\n",
    "import os\n",
    "import pickle\n",
    "from skimage.color import rgb2gray\n",
    "from skimage.transform import rotate\n",
    "import matplotlib.pyplot as plt\n",
    "from torch.optim import Adam\n",
    "from torch.utils.tensorboard import SummaryWriter\n",
    "from torchvision.transforms import Compose\n",
    "from torchvision import transforms\n",
    "from tqdm import tqdm\n",
    "\n",
    "# from utils import *\n",
    "# from dataset import SharadaDataset\n",
    "# from dataloader import SharadaDataLoader\n",
    "# from transforms import PadResize, Deskew, toRGB, ToTensor, Normalize_Cust\n",
    "\n",
    "os.makedirs(\"chk_pts/\", exist_ok=True)\n",
    "device = torch.device(\"cuda\" if torch.cuda.is_available() else \"cpu\")\n",
    "print(device)\n",
    "\n",
    "batch_size = (128,64)\n",
    "\n",
    "dataset = SharadaDataset(files_dir='data/extracted_dir/',\n",
    "                        transform=Compose([\n",
    "                            # Deslant(),\n",
    "                            Grayscale(num_output_channels=1),\n",
    "                            PadResize(output_size=(200,64)),\n",
    "                            ToTensor(), # converted to Tensor\n",
    "                            # Normalize_Cust(mean=[0.485, 0.456, 0.406],std=[0.229, 0.224, 0.225])\n",
    "                            Normalize_Cust(mean=[0],std=[1])\n",
    "                        ]))\n",
    "\n",
    "# dataset = DevDataset(images,\n",
    "#                         labels,\n",
    "#                         transform=Compose([\n",
    "#                             # Deslant(),\n",
    "#                             PadResize(output_size=(64,200)),\n",
    "#                             ToTensor(), # converted to Tensor\n",
    "#                             Normalize_Cust(mean=[0.485, 0.456, 0.406],std=[0.229, 0.224, 0.225])\n",
    "#                         ]))\n",
    "\n",
    "dl = SharadaDataLoader(dataset,\n",
    "                       batch_size=batch_size,\n",
    "                       validation_split=0.2,\n",
    "                       shuffle=False,\n",
    "                       seed=3407,\n",
    "                       device=str(device),\n",
    "                       padding_symbol=0)\n",
    "\n",
    "crnn_model = CRNN(input_channels=1, hidden_size=512, num_layers=2, num_classes=len(dataset.char_dict) + 1).to(device) # num_class has to be char_dict + 1 due to CTC loss\n",
    "optimizer = Adam(crnn_model.parameters(), lr=0.001)\n",
    "\n",
    "ctc_loss = nn.CTCLoss(blank=0, reduction='mean', zero_infinity=True)"
   ]
  },
  {
   "cell_type": "code",
   "execution_count": 7,
   "metadata": {},
   "outputs": [
    {
     "name": "stdout",
     "output_type": "stream",
     "text": [
      "CRNN(\n",
      "  (cnn): CNN(\n",
      "    (conv1): Conv2d(1, 64, kernel_size=(3, 3), stride=(1, 1), padding=(1, 1), bias=False)\n",
      "    (bn1): BatchNorm2d(64, eps=1e-05, momentum=0.1, affine=True, track_running_stats=True)\n",
      "    (relu): ReLU()\n",
      "    (resblocks): Sequential(\n",
      "      (0): ResidualBlock(\n",
      "        (conv1): Conv2d(64, 64, kernel_size=(3, 3), stride=(1, 1), padding=(1, 1), bias=False)\n",
      "        (bn1): BatchNorm2d(64, eps=1e-05, momentum=0.1, affine=True, track_running_stats=True)\n",
      "        (relu): ReLU()\n",
      "        (conv2): Conv2d(64, 64, kernel_size=(3, 3), stride=(1, 1), padding=(1, 1), bias=False)\n",
      "        (bn2): BatchNorm2d(64, eps=1e-05, momentum=0.1, affine=True, track_running_stats=True)\n",
      "        (downsample): Sequential()\n",
      "      )\n",
      "      (1): ResidualBlock(\n",
      "        (conv1): Conv2d(64, 128, kernel_size=(3, 3), stride=(2, 2), padding=(1, 1), bias=False)\n",
      "        (bn1): BatchNorm2d(128, eps=1e-05, momentum=0.1, affine=True, track_running_stats=True)\n",
      "        (relu): ReLU()\n",
      "        (conv2): Conv2d(128, 128, kernel_size=(3, 3), stride=(1, 1), padding=(1, 1), bias=False)\n",
      "        (bn2): BatchNorm2d(128, eps=1e-05, momentum=0.1, affine=True, track_running_stats=True)\n",
      "        (downsample): Sequential(\n",
      "          (0): Conv2d(64, 128, kernel_size=(1, 1), stride=(2, 2), bias=False)\n",
      "          (1): BatchNorm2d(128, eps=1e-05, momentum=0.1, affine=True, track_running_stats=True)\n",
      "        )\n",
      "      )\n",
      "      (2): ResidualBlock(\n",
      "        (conv1): Conv2d(128, 256, kernel_size=(3, 3), stride=(2, 2), padding=(1, 1), bias=False)\n",
      "        (bn1): BatchNorm2d(256, eps=1e-05, momentum=0.1, affine=True, track_running_stats=True)\n",
      "        (relu): ReLU()\n",
      "        (conv2): Conv2d(256, 256, kernel_size=(3, 3), stride=(1, 1), padding=(1, 1), bias=False)\n",
      "        (bn2): BatchNorm2d(256, eps=1e-05, momentum=0.1, affine=True, track_running_stats=True)\n",
      "        (downsample): Sequential(\n",
      "          (0): Conv2d(128, 256, kernel_size=(1, 1), stride=(2, 2), bias=False)\n",
      "          (1): BatchNorm2d(256, eps=1e-05, momentum=0.1, affine=True, track_running_stats=True)\n",
      "        )\n",
      "      )\n",
      "    )\n",
      "    (conv2): Conv2d(256, 512, kernel_size=(1, 1), stride=(1, 1), bias=False)\n",
      "    (pool): AdaptiveAvgPool2d(output_size=(1, None))\n",
      "  )\n",
      "  (rnn): BiLSTM(\n",
      "    (lstm): LSTM(512, 512, num_layers=2, batch_first=True, bidirectional=True)\n",
      "    (fc): Linear(in_features=1024, out_features=113, bias=True)\n",
      "  )\n",
      ")\n"
     ]
    }
   ],
   "source": [
    "print(crnn_model)"
   ]
  },
  {
   "cell_type": "code",
   "execution_count": 8,
   "metadata": {},
   "outputs": [
    {
     "data": {
      "text/plain": [
       "===============================================================================================\n",
       "Layer (type:depth-idx)                        Output Shape              Param #\n",
       "===============================================================================================\n",
       "CRNN                                          [16, 100, 113]            --\n",
       "├─CNN: 1-1                                    [100, 512, 1, 16]         --\n",
       "│    └─Conv2d: 2-1                            [100, 64, 64, 64]         576\n",
       "│    └─BatchNorm2d: 2-2                       [100, 64, 64, 64]         128\n",
       "│    └─ReLU: 2-3                              [100, 64, 64, 64]         --\n",
       "│    └─Sequential: 2-4                        [100, 256, 16, 16]        --\n",
       "│    │    └─ResidualBlock: 3-1                [100, 64, 64, 64]         73,984\n",
       "│    │    └─ResidualBlock: 3-2                [100, 128, 32, 32]        230,144\n",
       "│    │    └─ResidualBlock: 3-3                [100, 256, 16, 16]        919,040\n",
       "│    └─Conv2d: 2-5                            [100, 512, 16, 16]        131,072\n",
       "│    └─AdaptiveAvgPool2d: 2-6                 [100, 512, 1, 16]         --\n",
       "├─BiLSTM: 1-2                                 [16, 100, 113]            --\n",
       "│    └─LSTM: 2-7                              [16, 100, 1024]           10,502,144\n",
       "│    └─Linear: 2-8                            [1600, 113]               115,825\n",
       "===============================================================================================\n",
       "Total params: 11,972,913\n",
       "Trainable params: 11,972,913\n",
       "Non-trainable params: 0\n",
       "Total mult-adds (G): 97.76\n",
       "===============================================================================================\n",
       "Input size (MB): 1.64\n",
       "Forward/backward pass size (MB): 2321.42\n",
       "Params size (MB): 47.89\n",
       "Estimated Total Size (MB): 2370.95\n",
       "==============================================================================================="
      ]
     },
     "execution_count": 8,
     "metadata": {},
     "output_type": "execute_result"
    }
   ],
   "source": [
    "from torchinfo import summary\n",
    "summary(crnn_model, (100, 1, 64, 64))"
   ]
  },
  {
   "cell_type": "code",
   "execution_count": 9,
   "metadata": {},
   "outputs": [],
   "source": [
    "train_loader, val_loader = dl()"
   ]
  },
  {
   "cell_type": "markdown",
   "metadata": {},
   "source": [
    "## Visualize"
   ]
  },
  {
   "cell_type": "code",
   "execution_count": 10,
   "metadata": {},
   "outputs": [
    {
     "name": "stdout",
     "output_type": "stream",
     "text": [
      "Image Shape: torch.Size([128, 1, 64, 200]), Label Shape: torch.Size([128, 63]),  Label Lengths: tensor([33, 34, 34, 24, 34,  9, 46, 50, 40, 33, 33, 31, 38, 39, 53, 35, 36, 32,\n",
      "        50, 21, 35, 28, 40, 34, 37, 44, 30, 49, 50, 32, 40, 49, 32, 37, 33, 50,\n",
      "        34, 35, 29, 39, 13, 22, 55, 42, 39, 40, 53, 40, 53, 39, 20, 26, 32, 55,\n",
      "        11, 30, 32, 23, 51, 30, 30, 38, 33, 35, 49, 34, 37, 41, 49, 35, 34, 39,\n",
      "        35, 47, 44, 31, 35, 10, 49, 25, 15, 19, 33,  8, 36, 23, 36, 38, 55, 51,\n",
      "        38, 31, 33, 55, 36, 32, 62,  8, 15, 37, 56, 37,  7, 11, 41, 19, 63,  8,\n",
      "        33, 36, 30, 41, 32, 27, 44,  2, 35, 19, 36, 54,  9, 34, 58, 56, 31, 34,\n",
      "        38, 34], device='cuda:0')\n",
      "Label: tensor([22, 75, 56,  0, 49,  0, 22, 75, 56,  0, 57, 61,  0, 47, 75,  0,  0,  0,\n",
      "        54,  0, 57, 65,  0, 41, 61,  4,  0, 43, 61,  0, 54,  0, 22,  0,  0,  0,\n",
      "         0,  0,  0,  0,  0,  0,  0,  0,  0,  0,  0,  0,  0,  0,  0,  0,  0,  0,\n",
      "         0,  0,  0,  0,  0,  0,  0,  0,  0], device='cuda:0')\n",
      "Maximum: 1.0, Minimum: 0.0\n",
      "Label : क्ष र क्ष सा म्   व सू नां पा व क                              \n"
     ]
    },
    {
     "data": {
      "text/plain": [
       "<matplotlib.image.AxesImage at 0x7f6ebe6f2590>"
      ]
     },
     "execution_count": 10,
     "metadata": {},
     "output_type": "execute_result"
    },
    {
     "data": {
      "image/png": "[encoded data removed]",
      "text/plain": [
       "<Figure size 640x480 with 1 Axes>"
      ]
     },
     "metadata": {},
     "output_type": "display_data"
    }
   ],
   "source": [
    "import matplotlib.pyplot as plt\n",
    "data = next(iter(train_loader))\n",
    "img, label_, label_len = data\n",
    "print(f\"Image Shape: {img.shape}, Label Shape: {label_.shape},  Label Lengths: {label_len}\")\n",
    "print(f\"Label: {label_[0]}\")\n",
    "label_ = \"\".join([dataset.idx_to_char.get(c) for c in label_[0].cpu().numpy() if c!=-1])\n",
    "# print(f\"Image : {img}, Label : {label_}\")\n",
    "print(f\"Maximum: {torch.max(img[0])}, Minimum: {torch.min(img[0])}\")\n",
    "print(f\"Label : {label_}\")\n",
    "\n",
    "image = img[0].permute((1, 2, 0)).cpu()\n",
    "\n",
    "len_ = label_len[0]\n",
    "plt.imshow(image)"
   ]
  },
  {
   "cell_type": "code",
   "execution_count": 11,
   "metadata": {},
   "outputs": [
    {
     "data": {
      "text/plain": [
       "<torch.autograd.anomaly_mode.set_detect_anomaly at 0x7f6ebbfe1360>"
      ]
     },
     "execution_count": 11,
     "metadata": {},
     "output_type": "execute_result"
    }
   ],
   "source": [
    "torch.autograd.set_detect_anomaly(True)"
   ]
  },
  {
   "cell_type": "markdown",
   "metadata": {},
   "source": [
    "## Train Loop"
   ]
  },
  {
   "cell_type": "code",
   "execution_count": 12,
   "metadata": {},
   "outputs": [
    {
     "name": "stderr",
     "output_type": "stream",
     "text": [
      "Training:   0%|          | 0/50 [00:00<?, ?it/s]"
     ]
    },
    {
     "name": "stdout",
     "output_type": "stream",
     "text": [
      "Batch No. 0\n",
      "Batch No. 1\n",
      "Batch No. 2\n",
      "Batch No. 3\n",
      "Batch No. 4\n",
      "Batch No. 5\n",
      "Batch No. 6\n",
      "Batch No. 7\n",
      "Batch No. 8\n",
      "Epoch [1/50], Loss: 3.0594, Accuracy: 0.0000\n"
     ]
    },
    {
     "name": "stderr",
     "output_type": "stream",
     "text": [
      "Training:   2%|▏         | 1/50 [00:08<07:06,  8.71s/it]"
     ]
    },
    {
     "name": "stdout",
     "output_type": "stream",
     "text": [
      "Validation Loss: 2.1228\n",
      "Batch No. 0\n",
      "Batch No. 1\n",
      "Batch No. 2\n",
      "Batch No. 3\n",
      "Batch No. 4\n",
      "Batch No. 5\n",
      "Batch No. 6\n",
      "Batch No. 7\n",
      "Batch No. 8\n",
      "Epoch [2/50], Loss: 2.1483, Accuracy: 0.0000\n"
     ]
    },
    {
     "name": "stderr",
     "output_type": "stream",
     "text": [
      "Training:   4%|▍         | 2/50 [00:17<06:52,  8.59s/it]"
     ]
    },
    {
     "name": "stdout",
     "output_type": "stream",
     "text": [
      "Validation Loss: 2.1004\n",
      "Batch No. 0\n",
      "Batch No. 1\n",
      "Batch No. 2\n",
      "Batch No. 3\n",
      "Batch No. 4\n",
      "Batch No. 5\n",
      "Batch No. 6\n",
      "Batch No. 7\n",
      "Batch No. 8\n",
      "Epoch [3/50], Loss: 2.1086, Accuracy: 0.0000\n"
     ]
    },
    {
     "name": "stderr",
     "output_type": "stream",
     "text": [
      "Training:   6%|▌         | 3/50 [00:25<06:43,  8.58s/it]"
     ]
    },
    {
     "name": "stdout",
     "output_type": "stream",
     "text": [
      "Validation Loss: 2.0951\n",
      "Batch No. 0\n",
      "Batch No. 1\n",
      "Batch No. 2\n",
      "Batch No. 3\n",
      "Batch No. 4\n",
      "Batch No. 5\n",
      "Batch No. 6\n",
      "Batch No. 7\n",
      "Batch No. 8\n",
      "Epoch [4/50], Loss: 2.0439, Accuracy: 0.0000\n"
     ]
    },
    {
     "name": "stderr",
     "output_type": "stream",
     "text": [
      "Training:   8%|▊         | 4/50 [00:34<06:33,  8.55s/it]"
     ]
    },
    {
     "name": "stdout",
     "output_type": "stream",
     "text": [
      "Validation Loss: 2.2098\n",
      "Batch No. 0\n",
      "Batch No. 1\n",
      "Batch No. 2\n",
      "Batch No. 3\n",
      "Batch No. 4\n",
      "Batch No. 5\n",
      "Batch No. 6\n",
      "Batch No. 7\n",
      "Batch No. 8\n",
      "Epoch [5/50], Loss: 2.0100, Accuracy: 0.0000\n"
     ]
    },
    {
     "name": "stderr",
     "output_type": "stream",
     "text": [
      "Training:  10%|█         | 5/50 [00:42<06:23,  8.52s/it]"
     ]
    },
    {
     "name": "stdout",
     "output_type": "stream",
     "text": [
      "Validation Loss: 2.3620\n",
      "Batch No. 0\n",
      "Batch No. 1\n",
      "Batch No. 2\n",
      "Batch No. 3\n",
      "Batch No. 4\n",
      "Batch No. 5\n",
      "Batch No. 6\n",
      "Batch No. 7\n",
      "Batch No. 8\n",
      "Epoch [6/50], Loss: 1.9834, Accuracy: 0.0000\n"
     ]
    },
    {
     "name": "stderr",
     "output_type": "stream",
     "text": [
      "Training:  12%|█▏        | 6/50 [00:51<06:13,  8.50s/it]"
     ]
    },
    {
     "name": "stdout",
     "output_type": "stream",
     "text": [
      "Validation Loss: 2.5073\n",
      "Batch No. 0\n",
      "Batch No. 1\n",
      "Batch No. 2\n",
      "Batch No. 3\n",
      "Batch No. 4\n",
      "Batch No. 5\n",
      "Batch No. 6\n",
      "Batch No. 7\n",
      "Batch No. 8\n",
      "Epoch [7/50], Loss: 1.9731, Accuracy: 0.0000\n"
     ]
    },
    {
     "name": "stderr",
     "output_type": "stream",
     "text": [
      "Training:  14%|█▍        | 7/50 [00:59<06:05,  8.51s/it]"
     ]
    },
    {
     "name": "stdout",
     "output_type": "stream",
     "text": [
      "Validation Loss: 2.0884\n",
      "Batch No. 0\n",
      "Batch No. 1\n",
      "Batch No. 2\n",
      "Batch No. 3\n",
      "Batch No. 4\n",
      "Batch No. 5\n",
      "Batch No. 6\n",
      "Batch No. 7\n",
      "Batch No. 8\n",
      "Epoch [8/50], Loss: 1.9585, Accuracy: 0.0000\n"
     ]
    },
    {
     "name": "stderr",
     "output_type": "stream",
     "text": [
      "Training:  16%|█▌        | 8/50 [01:08<05:56,  8.49s/it]"
     ]
    },
    {
     "name": "stdout",
     "output_type": "stream",
     "text": [
      "Validation Loss: 2.7528\n",
      "Batch No. 0\n",
      "Batch No. 1\n",
      "Batch No. 2\n",
      "Batch No. 3\n",
      "Batch No. 4\n",
      "Batch No. 5\n",
      "Batch No. 6\n",
      "Batch No. 7\n",
      "Batch No. 8\n",
      "Epoch [9/50], Loss: 1.9491, Accuracy: 0.0000\n"
     ]
    },
    {
     "name": "stderr",
     "output_type": "stream",
     "text": [
      "Training:  18%|█▊        | 9/50 [01:16<05:51,  8.57s/it]"
     ]
    },
    {
     "name": "stdout",
     "output_type": "stream",
     "text": [
      "Validation Loss: 1.9674\n",
      "Batch No. 0\n",
      "Batch No. 1\n",
      "Batch No. 2\n",
      "Batch No. 3\n",
      "Batch No. 4\n",
      "Batch No. 5\n",
      "Batch No. 6\n",
      "Batch No. 7\n",
      "Batch No. 8\n",
      "Epoch [10/50], Loss: 1.9378, Accuracy: 0.0000\n"
     ]
    },
    {
     "name": "stderr",
     "output_type": "stream",
     "text": [
      "Training:  20%|██        | 10/50 [01:25<05:41,  8.53s/it]"
     ]
    },
    {
     "name": "stdout",
     "output_type": "stream",
     "text": [
      "Validation Loss: 1.9737\n",
      "Batch No. 0\n",
      "Batch No. 1\n",
      "Batch No. 2\n",
      "Batch No. 3\n",
      "Batch No. 4\n",
      "Batch No. 5\n",
      "Batch No. 6\n",
      "Batch No. 7\n",
      "Batch No. 8\n",
      "Epoch [11/50], Loss: 1.9274, Accuracy: 0.0000\n"
     ]
    },
    {
     "name": "stderr",
     "output_type": "stream",
     "text": [
      "Training:  22%|██▏       | 11/50 [01:33<05:31,  8.49s/it]"
     ]
    },
    {
     "name": "stdout",
     "output_type": "stream",
     "text": [
      "Validation Loss: 1.9974\n",
      "Batch No. 0\n",
      "Batch No. 1\n",
      "Batch No. 2\n",
      "Batch No. 3\n",
      "Batch No. 4\n",
      "Batch No. 5\n",
      "Batch No. 6\n",
      "Batch No. 7\n",
      "Batch No. 8\n",
      "Epoch [12/50], Loss: 1.9222, Accuracy: 0.0000\n"
     ]
    },
    {
     "name": "stderr",
     "output_type": "stream",
     "text": [
      "Training:  24%|██▍       | 12/50 [01:42<05:23,  8.51s/it]"
     ]
    },
    {
     "name": "stdout",
     "output_type": "stream",
     "text": [
      "Validation Loss: 1.9590\n",
      "Batch No. 0\n",
      "Batch No. 1\n",
      "Batch No. 2\n",
      "Batch No. 3\n",
      "Batch No. 4\n",
      "Batch No. 5\n",
      "Batch No. 6\n",
      "Batch No. 7\n",
      "Batch No. 8\n",
      "Epoch [13/50], Loss: 1.9130, Accuracy: 0.0000\n"
     ]
    },
    {
     "name": "stderr",
     "output_type": "stream",
     "text": [
      "Training:  26%|██▌       | 13/50 [01:50<05:14,  8.49s/it]"
     ]
    },
    {
     "name": "stdout",
     "output_type": "stream",
     "text": [
      "Validation Loss: 1.9777\n",
      "Batch No. 0\n",
      "Batch No. 1\n",
      "Batch No. 2\n",
      "Batch No. 3\n",
      "Batch No. 4\n",
      "Batch No. 5\n",
      "Batch No. 6\n",
      "Batch No. 7\n",
      "Batch No. 8\n",
      "Epoch [14/50], Loss: 1.8939, Accuracy: 0.0000\n"
     ]
    },
    {
     "name": "stderr",
     "output_type": "stream",
     "text": [
      "Training:  28%|██▊       | 14/50 [01:59<05:05,  8.47s/it]"
     ]
    },
    {
     "name": "stdout",
     "output_type": "stream",
     "text": [
      "Validation Loss: 1.9954\n",
      "Batch No. 0\n",
      "Batch No. 1\n",
      "Batch No. 2\n",
      "Batch No. 3\n",
      "Batch No. 4\n",
      "Batch No. 5\n",
      "Batch No. 6\n",
      "Batch No. 7\n",
      "Batch No. 8\n",
      "Epoch [15/50], Loss: 1.8825, Accuracy: 0.0000\n"
     ]
    },
    {
     "name": "stderr",
     "output_type": "stream",
     "text": [
      "Training:  30%|███       | 15/50 [02:07<04:56,  8.46s/it]"
     ]
    },
    {
     "name": "stdout",
     "output_type": "stream",
     "text": [
      "Validation Loss: 2.2357\n",
      "Batch No. 0\n",
      "Batch No. 1\n",
      "Batch No. 2\n",
      "Batch No. 3\n",
      "Batch No. 4\n",
      "Batch No. 5\n",
      "Batch No. 6\n",
      "Batch No. 7\n",
      "Batch No. 8\n",
      "Epoch [16/50], Loss: 1.8761, Accuracy: 0.0000\n"
     ]
    },
    {
     "name": "stderr",
     "output_type": "stream",
     "text": [
      "Training:  32%|███▏      | 16/50 [02:16<04:47,  8.46s/it]"
     ]
    },
    {
     "name": "stdout",
     "output_type": "stream",
     "text": [
      "Validation Loss: 1.8712\n",
      "Batch No. 0\n",
      "Batch No. 1\n",
      "Batch No. 2\n",
      "Batch No. 3\n",
      "Batch No. 4\n",
      "Batch No. 5\n",
      "Batch No. 6\n",
      "Batch No. 7\n",
      "Batch No. 8\n",
      "Epoch [17/50], Loss: 1.8671, Accuracy: 0.0000\n"
     ]
    },
    {
     "name": "stderr",
     "output_type": "stream",
     "text": [
      "Training:  34%|███▍      | 17/50 [02:24<04:39,  8.47s/it]"
     ]
    },
    {
     "name": "stdout",
     "output_type": "stream",
     "text": [
      "Validation Loss: 1.9948\n",
      "Batch No. 0\n",
      "Batch No. 1\n",
      "Batch No. 2\n",
      "Batch No. 3\n",
      "Batch No. 4\n",
      "Batch No. 5\n",
      "Batch No. 6\n",
      "Batch No. 7\n",
      "Batch No. 8\n",
      "Epoch [18/50], Loss: 1.8751, Accuracy: 0.0000\n"
     ]
    },
    {
     "name": "stderr",
     "output_type": "stream",
     "text": [
      "Training:  36%|███▌      | 18/50 [02:33<04:31,  8.49s/it]"
     ]
    },
    {
     "name": "stdout",
     "output_type": "stream",
     "text": [
      "Validation Loss: 1.9772\n",
      "Batch No. 0\n",
      "Batch No. 1\n",
      "Batch No. 2\n",
      "Batch No. 3\n",
      "Batch No. 4\n",
      "Batch No. 5\n",
      "Batch No. 6\n",
      "Batch No. 7\n",
      "Batch No. 8\n",
      "Epoch [19/50], Loss: 1.8601, Accuracy: 0.0000\n"
     ]
    },
    {
     "name": "stderr",
     "output_type": "stream",
     "text": [
      "Training:  38%|███▊      | 19/50 [02:41<04:22,  8.48s/it]"
     ]
    },
    {
     "name": "stdout",
     "output_type": "stream",
     "text": [
      "Validation Loss: 2.2528\n",
      "Batch No. 0\n",
      "Batch No. 1\n",
      "Batch No. 2\n",
      "Batch No. 3\n",
      "Batch No. 4\n",
      "Batch No. 5\n",
      "Batch No. 6\n",
      "Batch No. 7\n",
      "Batch No. 8\n",
      "Epoch [20/50], Loss: 1.8481, Accuracy: 0.0000\n"
     ]
    },
    {
     "name": "stderr",
     "output_type": "stream",
     "text": [
      "Training:  40%|████      | 20/50 [02:50<04:13,  8.47s/it]"
     ]
    },
    {
     "name": "stdout",
     "output_type": "stream",
     "text": [
      "Validation Loss: 1.8502\n",
      "Batch No. 0\n",
      "Batch No. 1\n",
      "Batch No. 2\n",
      "Batch No. 3\n",
      "Batch No. 4\n",
      "Batch No. 5\n",
      "Batch No. 6\n",
      "Batch No. 7\n",
      "Batch No. 8\n",
      "Epoch [21/50], Loss: 1.8282, Accuracy: 0.0000\n"
     ]
    },
    {
     "name": "stderr",
     "output_type": "stream",
     "text": [
      "Training:  42%|████▏     | 21/50 [02:58<04:05,  8.45s/it]"
     ]
    },
    {
     "name": "stdout",
     "output_type": "stream",
     "text": [
      "Validation Loss: 1.9157\n",
      "Batch No. 0\n",
      "Batch No. 1\n",
      "Batch No. 2\n",
      "Batch No. 3\n",
      "Batch No. 4\n",
      "Batch No. 5\n",
      "Batch No. 6\n",
      "Batch No. 7\n",
      "Batch No. 8\n",
      "Epoch [22/50], Loss: 1.8142, Accuracy: 0.0000\n"
     ]
    },
    {
     "name": "stderr",
     "output_type": "stream",
     "text": [
      "Training:  44%|████▍     | 22/50 [03:06<03:56,  8.45s/it]"
     ]
    },
    {
     "name": "stdout",
     "output_type": "stream",
     "text": [
      "Validation Loss: 2.8628\n",
      "Batch No. 0\n",
      "Batch No. 1\n",
      "Batch No. 2\n",
      "Batch No. 3\n",
      "Batch No. 4\n",
      "Batch No. 5\n",
      "Batch No. 6\n",
      "Batch No. 7\n",
      "Batch No. 8\n",
      "Epoch [23/50], Loss: 1.8165, Accuracy: 0.0000\n"
     ]
    },
    {
     "name": "stderr",
     "output_type": "stream",
     "text": [
      "Training:  46%|████▌     | 23/50 [03:15<03:49,  8.50s/it]"
     ]
    },
    {
     "name": "stdout",
     "output_type": "stream",
     "text": [
      "Validation Loss: 1.8342\n",
      "Batch No. 0\n",
      "Batch No. 1\n",
      "Batch No. 2\n",
      "Batch No. 3\n",
      "Batch No. 4\n",
      "Batch No. 5\n",
      "Batch No. 6\n",
      "Batch No. 7\n",
      "Batch No. 8\n",
      "Epoch [24/50], Loss: 1.8009, Accuracy: 0.0000\n"
     ]
    },
    {
     "name": "stderr",
     "output_type": "stream",
     "text": [
      "Training:  48%|████▊     | 24/50 [03:23<03:40,  8.49s/it]"
     ]
    },
    {
     "name": "stdout",
     "output_type": "stream",
     "text": [
      "Validation Loss: 4.1638\n",
      "Batch No. 0\n",
      "Batch No. 1\n",
      "Batch No. 2\n",
      "Batch No. 3\n",
      "Batch No. 4\n",
      "Batch No. 5\n",
      "Batch No. 6\n",
      "Batch No. 7\n",
      "Batch No. 8\n",
      "Epoch [25/50], Loss: 1.7803, Accuracy: 0.0000\n"
     ]
    },
    {
     "name": "stderr",
     "output_type": "stream",
     "text": [
      "Training:  50%|█████     | 25/50 [03:32<03:32,  8.49s/it]"
     ]
    },
    {
     "name": "stdout",
     "output_type": "stream",
     "text": [
      "Validation Loss: 1.8648\n",
      "Batch No. 0\n",
      "Batch No. 1\n",
      "Batch No. 2\n",
      "Batch No. 3\n",
      "Batch No. 4\n",
      "Batch No. 5\n",
      "Batch No. 6\n",
      "Batch No. 7\n",
      "Batch No. 8\n",
      "Epoch [26/50], Loss: 1.7456, Accuracy: 0.0000\n"
     ]
    },
    {
     "name": "stderr",
     "output_type": "stream",
     "text": [
      "Training:  52%|█████▏    | 26/50 [03:40<03:23,  8.48s/it]"
     ]
    },
    {
     "name": "stdout",
     "output_type": "stream",
     "text": [
      "Validation Loss: 1.7698\n",
      "Batch No. 0\n",
      "Batch No. 1\n",
      "Batch No. 2\n",
      "Batch No. 3\n",
      "Batch No. 4\n",
      "Batch No. 5\n",
      "Batch No. 6\n",
      "Batch No. 7\n",
      "Batch No. 8\n",
      "Epoch [27/50], Loss: 1.7139, Accuracy: 0.0000\n"
     ]
    },
    {
     "name": "stderr",
     "output_type": "stream",
     "text": [
      "Training:  54%|█████▍    | 27/50 [03:49<03:15,  8.49s/it]"
     ]
    },
    {
     "name": "stdout",
     "output_type": "stream",
     "text": [
      "Validation Loss: 1.9494\n",
      "Batch No. 0\n",
      "Batch No. 1\n",
      "Batch No. 2\n",
      "Batch No. 3\n",
      "Batch No. 4\n",
      "Batch No. 5\n",
      "Batch No. 6\n",
      "Batch No. 7\n",
      "Batch No. 8\n",
      "Epoch [28/50], Loss: 1.7094, Accuracy: 0.0000\n"
     ]
    },
    {
     "name": "stderr",
     "output_type": "stream",
     "text": [
      "Training:  56%|█████▌    | 28/50 [03:58<03:07,  8.53s/it]"
     ]
    },
    {
     "name": "stdout",
     "output_type": "stream",
     "text": [
      "Validation Loss: 3.2993\n",
      "Batch No. 0\n",
      "Batch No. 1\n",
      "Batch No. 2\n",
      "Batch No. 3\n",
      "Batch No. 4\n",
      "Batch No. 5\n",
      "Batch No. 6\n",
      "Batch No. 7\n",
      "Batch No. 8\n",
      "Epoch [29/50], Loss: 1.6927, Accuracy: 0.0000\n"
     ]
    },
    {
     "name": "stderr",
     "output_type": "stream",
     "text": [
      "Training:  58%|█████▊    | 29/50 [04:06<02:58,  8.50s/it]"
     ]
    },
    {
     "name": "stdout",
     "output_type": "stream",
     "text": [
      "Validation Loss: 1.7348\n",
      "Batch No. 0\n",
      "Batch No. 1\n",
      "Batch No. 2\n",
      "Batch No. 3\n",
      "Batch No. 4\n",
      "Batch No. 5\n",
      "Batch No. 6\n",
      "Batch No. 7\n",
      "Batch No. 8\n",
      "Epoch [30/50], Loss: 1.6626, Accuracy: 0.0000\n"
     ]
    },
    {
     "name": "stderr",
     "output_type": "stream",
     "text": [
      "Training:  60%|██████    | 30/50 [04:14<02:49,  8.50s/it]"
     ]
    },
    {
     "name": "stdout",
     "output_type": "stream",
     "text": [
      "Validation Loss: 1.6978\n",
      "Batch No. 0\n",
      "Batch No. 1\n",
      "Batch No. 2\n",
      "Batch No. 3\n",
      "Batch No. 4\n",
      "Batch No. 5\n",
      "Batch No. 6\n",
      "Batch No. 7\n",
      "Batch No. 8\n",
      "Epoch [31/50], Loss: 1.6247, Accuracy: 0.0000\n"
     ]
    },
    {
     "name": "stderr",
     "output_type": "stream",
     "text": [
      "Training:  62%|██████▏   | 31/50 [04:23<02:41,  8.52s/it]"
     ]
    },
    {
     "name": "stdout",
     "output_type": "stream",
     "text": [
      "Validation Loss: 1.7006\n",
      "Batch No. 0\n",
      "Batch No. 1\n",
      "Batch No. 2\n",
      "Batch No. 3\n",
      "Batch No. 4\n",
      "Batch No. 5\n",
      "Batch No. 6\n",
      "Batch No. 7\n",
      "Batch No. 8\n",
      "Epoch [32/50], Loss: 1.5964, Accuracy: 0.0000\n"
     ]
    },
    {
     "name": "stderr",
     "output_type": "stream",
     "text": [
      "Training:  64%|██████▍   | 32/50 [04:32<02:33,  8.55s/it]"
     ]
    },
    {
     "name": "stdout",
     "output_type": "stream",
     "text": [
      "Validation Loss: 1.6389\n",
      "Batch No. 0\n",
      "Batch No. 1\n",
      "Batch No. 2\n",
      "Batch No. 3\n",
      "Batch No. 4\n",
      "Batch No. 5\n",
      "Batch No. 6\n",
      "Batch No. 7\n",
      "Batch No. 8\n",
      "Epoch [33/50], Loss: 1.6051, Accuracy: 0.0000\n"
     ]
    },
    {
     "name": "stderr",
     "output_type": "stream",
     "text": [
      "Training:  66%|██████▌   | 33/50 [04:40<02:24,  8.52s/it]"
     ]
    },
    {
     "name": "stdout",
     "output_type": "stream",
     "text": [
      "Validation Loss: 1.8681\n",
      "Batch No. 0\n",
      "Batch No. 1\n",
      "Batch No. 2\n",
      "Batch No. 3\n",
      "Batch No. 4\n",
      "Batch No. 5\n",
      "Batch No. 6\n",
      "Batch No. 7\n",
      "Batch No. 8\n",
      "Epoch [34/50], Loss: 1.5660, Accuracy: 0.0000\n"
     ]
    },
    {
     "name": "stderr",
     "output_type": "stream",
     "text": [
      "Training:  68%|██████▊   | 34/50 [04:49<02:16,  8.55s/it]"
     ]
    },
    {
     "name": "stdout",
     "output_type": "stream",
     "text": [
      "Validation Loss: 1.6612\n",
      "Batch No. 0\n",
      "Batch No. 1\n",
      "Batch No. 2\n",
      "Batch No. 3\n",
      "Batch No. 4\n",
      "Batch No. 5\n",
      "Batch No. 6\n",
      "Batch No. 7\n",
      "Batch No. 8\n",
      "Epoch [35/50], Loss: 1.5266, Accuracy: 0.0000\n"
     ]
    },
    {
     "name": "stderr",
     "output_type": "stream",
     "text": [
      "Training:  70%|███████   | 35/50 [04:57<02:07,  8.52s/it]"
     ]
    },
    {
     "name": "stdout",
     "output_type": "stream",
     "text": [
      "Validation Loss: 1.5707\n",
      "Batch No. 0\n",
      "Batch No. 1\n",
      "Batch No. 2\n",
      "Batch No. 3\n",
      "Batch No. 4\n",
      "Batch No. 5\n",
      "Batch No. 6\n",
      "Batch No. 7\n",
      "Batch No. 8\n",
      "Epoch [36/50], Loss: 1.4873, Accuracy: 0.0000\n"
     ]
    },
    {
     "name": "stderr",
     "output_type": "stream",
     "text": [
      "Training:  72%|███████▏  | 36/50 [05:06<01:59,  8.51s/it]"
     ]
    },
    {
     "name": "stdout",
     "output_type": "stream",
     "text": [
      "Validation Loss: 1.5615\n",
      "Batch No. 0\n",
      "Batch No. 1\n",
      "Batch No. 2\n",
      "Batch No. 3\n",
      "Batch No. 4\n",
      "Batch No. 5\n",
      "Batch No. 6\n",
      "Batch No. 7\n",
      "Batch No. 8\n",
      "Epoch [37/50], Loss: 1.4456, Accuracy: 0.0000\n"
     ]
    },
    {
     "name": "stderr",
     "output_type": "stream",
     "text": [
      "Training:  74%|███████▍  | 37/50 [05:14<01:50,  8.51s/it]"
     ]
    },
    {
     "name": "stdout",
     "output_type": "stream",
     "text": [
      "Validation Loss: 2.3725\n",
      "Batch No. 0\n",
      "Batch No. 1\n",
      "Batch No. 2\n",
      "Batch No. 3\n",
      "Batch No. 4\n",
      "Batch No. 5\n",
      "Batch No. 6\n",
      "Batch No. 7\n",
      "Batch No. 8\n",
      "Epoch [38/50], Loss: 1.3954, Accuracy: 0.0000\n"
     ]
    },
    {
     "name": "stderr",
     "output_type": "stream",
     "text": [
      "Training:  76%|███████▌  | 38/50 [05:23<01:41,  8.50s/it]"
     ]
    },
    {
     "name": "stdout",
     "output_type": "stream",
     "text": [
      "Validation Loss: 1.4794\n",
      "Batch No. 0\n",
      "Batch No. 1\n",
      "Batch No. 2\n",
      "Batch No. 3\n",
      "Batch No. 4\n",
      "Batch No. 5\n",
      "Batch No. 6\n",
      "Batch No. 7\n",
      "Batch No. 8\n",
      "Epoch [39/50], Loss: 1.3719, Accuracy: 0.0000\n"
     ]
    },
    {
     "name": "stderr",
     "output_type": "stream",
     "text": [
      "Training:  78%|███████▊  | 39/50 [05:31<01:33,  8.48s/it]"
     ]
    },
    {
     "name": "stdout",
     "output_type": "stream",
     "text": [
      "Validation Loss: 1.7396\n",
      "Batch No. 0\n",
      "Batch No. 1\n",
      "Batch No. 2\n",
      "Batch No. 3\n",
      "Batch No. 4\n",
      "Batch No. 5\n",
      "Batch No. 6\n",
      "Batch No. 7\n",
      "Batch No. 8\n",
      "Epoch [40/50], Loss: 1.3192, Accuracy: 0.0000\n"
     ]
    },
    {
     "name": "stderr",
     "output_type": "stream",
     "text": [
      "Training:  80%|████████  | 40/50 [05:40<01:24,  8.48s/it]"
     ]
    },
    {
     "name": "stdout",
     "output_type": "stream",
     "text": [
      "Validation Loss: 1.5762\n",
      "Batch No. 0\n",
      "Batch No. 1\n",
      "Batch No. 2\n",
      "Batch No. 3\n",
      "Batch No. 4\n",
      "Batch No. 5\n",
      "Batch No. 6\n",
      "Batch No. 7\n",
      "Batch No. 8\n",
      "Epoch [41/50], Loss: 1.2500, Accuracy: 0.0000\n"
     ]
    },
    {
     "name": "stderr",
     "output_type": "stream",
     "text": [
      "Training:  82%|████████▏ | 41/50 [05:48<01:16,  8.47s/it]"
     ]
    },
    {
     "name": "stdout",
     "output_type": "stream",
     "text": [
      "Validation Loss: 1.6338\n",
      "Batch No. 0\n",
      "Batch No. 1\n",
      "Batch No. 2\n",
      "Batch No. 3\n",
      "Batch No. 4\n",
      "Batch No. 5\n",
      "Batch No. 6\n",
      "Batch No. 7\n",
      "Batch No. 8\n",
      "Epoch [42/50], Loss: 1.1972, Accuracy: 0.0000\n"
     ]
    },
    {
     "name": "stderr",
     "output_type": "stream",
     "text": [
      "Training:  84%|████████▍ | 42/50 [05:57<01:07,  8.47s/it]"
     ]
    },
    {
     "name": "stdout",
     "output_type": "stream",
     "text": [
      "Validation Loss: 1.6392\n",
      "Batch No. 0\n",
      "Batch No. 1\n",
      "Batch No. 2\n",
      "Batch No. 3\n",
      "Batch No. 4\n",
      "Batch No. 5\n",
      "Batch No. 6\n",
      "Batch No. 7\n",
      "Batch No. 8\n",
      "Epoch [43/50], Loss: 1.1343, Accuracy: 0.0000\n"
     ]
    },
    {
     "name": "stderr",
     "output_type": "stream",
     "text": [
      "Training:  86%|████████▌ | 43/50 [06:05<00:59,  8.48s/it]"
     ]
    },
    {
     "name": "stdout",
     "output_type": "stream",
     "text": [
      "Validation Loss: 1.2643\n",
      "Batch No. 0\n",
      "Batch No. 1\n",
      "Batch No. 2\n",
      "Batch No. 3\n",
      "Batch No. 4\n",
      "Batch No. 5\n",
      "Batch No. 6\n",
      "Batch No. 7\n",
      "Batch No. 8\n",
      "Epoch [44/50], Loss: 1.0825, Accuracy: 0.0000\n"
     ]
    },
    {
     "name": "stderr",
     "output_type": "stream",
     "text": [
      "Training:  88%|████████▊ | 44/50 [06:14<00:50,  8.50s/it]"
     ]
    },
    {
     "name": "stdout",
     "output_type": "stream",
     "text": [
      "Validation Loss: 1.3600\n",
      "Batch No. 0\n",
      "Batch No. 1\n",
      "Batch No. 2\n",
      "Batch No. 3\n",
      "Batch No. 4\n",
      "Batch No. 5\n",
      "Batch No. 6\n",
      "Batch No. 7\n",
      "Batch No. 8\n",
      "Epoch [45/50], Loss: 1.0297, Accuracy: 0.0000\n"
     ]
    },
    {
     "name": "stderr",
     "output_type": "stream",
     "text": [
      "Training:  90%|█████████ | 45/50 [06:22<00:42,  8.51s/it]"
     ]
    },
    {
     "name": "stdout",
     "output_type": "stream",
     "text": [
      "Validation Loss: 1.3294\n",
      "Batch No. 0\n",
      "Batch No. 1\n",
      "Batch No. 2\n",
      "Batch No. 3\n",
      "Batch No. 4\n",
      "Batch No. 5\n",
      "Batch No. 6\n",
      "Batch No. 7\n",
      "Batch No. 8\n",
      "Epoch [46/50], Loss: 0.9564, Accuracy: 0.0000\n"
     ]
    },
    {
     "name": "stderr",
     "output_type": "stream",
     "text": [
      "Training:  92%|█████████▏| 46/50 [06:30<00:33,  8.47s/it]"
     ]
    },
    {
     "name": "stdout",
     "output_type": "stream",
     "text": [
      "Validation Loss: 1.7129\n",
      "Batch No. 0\n",
      "Batch No. 1\n",
      "Batch No. 2\n",
      "Batch No. 3\n",
      "Batch No. 4\n",
      "Batch No. 5\n",
      "Batch No. 6\n",
      "Batch No. 7\n",
      "Batch No. 8\n",
      "Epoch [47/50], Loss: 0.9279, Accuracy: 0.0000\n"
     ]
    },
    {
     "name": "stderr",
     "output_type": "stream",
     "text": [
      "Training:  94%|█████████▍| 47/50 [06:39<00:25,  8.46s/it]"
     ]
    },
    {
     "name": "stdout",
     "output_type": "stream",
     "text": [
      "Validation Loss: 1.1658\n",
      "Batch No. 0\n",
      "Batch No. 1\n",
      "Batch No. 2\n",
      "Batch No. 3\n",
      "Batch No. 4\n",
      "Batch No. 5\n",
      "Batch No. 6\n",
      "Batch No. 7\n",
      "Batch No. 8\n",
      "Epoch [48/50], Loss: 0.8708, Accuracy: 0.0000\n"
     ]
    },
    {
     "name": "stderr",
     "output_type": "stream",
     "text": [
      "Training:  96%|█████████▌| 48/50 [06:47<00:16,  8.47s/it]"
     ]
    },
    {
     "name": "stdout",
     "output_type": "stream",
     "text": [
      "Validation Loss: 1.2190\n",
      "Batch No. 0\n",
      "Batch No. 1\n",
      "Batch No. 2\n",
      "Batch No. 3\n",
      "Batch No. 4\n",
      "Batch No. 5\n",
      "Batch No. 6\n",
      "Batch No. 7\n",
      "Batch No. 8\n",
      "Epoch [49/50], Loss: 0.8147, Accuracy: 0.0000\n"
     ]
    },
    {
     "name": "stderr",
     "output_type": "stream",
     "text": [
      "Training:  98%|█████████▊| 49/50 [06:56<00:08,  8.47s/it]"
     ]
    },
    {
     "name": "stdout",
     "output_type": "stream",
     "text": [
      "Validation Loss: 1.1292\n",
      "Batch No. 0\n",
      "Batch No. 1\n",
      "Batch No. 2\n",
      "Batch No. 3\n",
      "Batch No. 4\n",
      "Batch No. 5\n",
      "Batch No. 6\n",
      "Batch No. 7\n",
      "Batch No. 8\n",
      "Epoch [50/50], Loss: 0.7768, Accuracy: 0.0000\n"
     ]
    },
    {
     "name": "stderr",
     "output_type": "stream",
     "text": [
      "Training: 100%|██████████| 50/50 [07:04<00:00,  8.50s/it]"
     ]
    },
    {
     "name": "stdout",
     "output_type": "stream",
     "text": [
      "Validation Loss: 1.1871\n"
     ]
    },
    {
     "name": "stderr",
     "output_type": "stream",
     "text": [
      "\n"
     ]
    }
   ],
   "source": [
    "writer = SummaryWriter()\n",
    "num_epochs = 50\n",
    "\n",
    "# Training loop\n",
    "for epoch in tqdm(range(num_epochs), desc='Training'):\n",
    "    crnn_model.train()\n",
    "    total_loss = 0.0\n",
    "    tot_correct_tr = 0\n",
    "    tot_samples_tr = 0\n",
    "    i = 0\n",
    "    for images, targets, target_lengths in train_loader:\n",
    "        print(\"Batch No.\",i)\n",
    "        images = images.to(device)\n",
    "        targets = targets.to(device) # Targets is [Batch, LongestSeqLen] (N,S) -> Targets should not be blanks\n",
    "        \n",
    "\n",
    "        # print(f\"images: {images.shape}, Targets: {targets.shape}, lengths: {target_lengths.shape} \")\n",
    "\n",
    "        logits = crnn_model(images) # Outputs should be [TimeStep, Batch, NumClass]\n",
    "        # (T,N,C) or (T,C) where C = number of characters in alphabet including blank, T = input length, and N = batch size.\n",
    "\n",
    "        _, predicted_labels = torch.max(logits, 2)\n",
    "        preds = [\"\".join([dataset.char_list[c] for c in row if c != 0]) for row in predicted_labels.cpu().numpy()]\n",
    "        target_labels = [\"\".join([dataset.char_list[c] for c in row if c != 0]) for row in targets.cpu().numpy()]\n",
    "        correct = sum(pred == target for pred, target in zip(preds, target_labels))\n",
    "        tot_correct_tr += correct\n",
    "        tot_samples_tr += targets.size(0)\n",
    "\n",
    "\n",
    "        # logits = torch.nn.functional.log_softmax(logits, dim=2)\n",
    "        logit_lengths = torch.LongTensor([logits.size(0)] * logits.size(1))\n",
    "        # [BatchSize] (N) Each must be <= T\n",
    "\n",
    "        # logits = logits.transpose(0, 1)\n",
    "\n",
    "        # print(f\"LOGIT SHAPE {logits.shape} , TARGETS SHAPE {targets.shape}\")\n",
    "        # print(f\" Logit Lengths : {logit_lengths.shape}  Target : {target_lengths.shape}\")\n",
    "        # print(\"__________________________________________________________________________\")\n",
    "\n",
    "        # Calculate the CTC loss\n",
    "        loss = ctc_loss(logits, targets, logit_lengths, target_lengths)\n",
    "\n",
    "        # print(loss.item())\n",
    "        i += 1\n",
    "\n",
    "        loss.backward()\n",
    "        torch.nn.utils.clip_grad_norm_(crnn_model.parameters(), 5.0)\n",
    "        optimizer.step()\n",
    "        optimizer.zero_grad()\n",
    "\n",
    "\n",
    "        total_loss += loss.item()\n",
    "\n",
    "    avg_loss = total_loss / len(train_loader)\n",
    "    accuracy = tot_correct_tr / tot_samples_tr\n",
    "    writer.add_scalar('Loss/Train', avg_loss, epoch)\n",
    "    writer.add_scalar('Accuracy/Train', accuracy, epoch)\n",
    "    print(f'Epoch [{epoch + 1}/{num_epochs}], Loss: {avg_loss:.4f}, Accuracy: {accuracy:.4f}')\n",
    "    \n",
    "    # Validation\n",
    "    if (epoch + 1) % 1 == 0:\n",
    "        crnn_model.eval()\n",
    "        val_loss = 0.0\n",
    "        val_tot_correct = 0\n",
    "        val_tot_samples = 0\n",
    "\n",
    "        with torch.no_grad():\n",
    "            for val_images, val_targets, val_target_lengths in val_loader:\n",
    "                val_images = val_images.to(device)\n",
    "                # print(val_targets)\n",
    "                val_targets = val_targets.to(device)\n",
    "                val_tot_samples += val_targets.size(0)\n",
    "\n",
    "                val_logits = crnn_model(val_images)\n",
    "                # print(f\"ValLog Before Softmax {val_logits}\")\n",
    "                val_logit_lengths = torch.LongTensor([val_logits.size(0)] * val_logits.size(1))\n",
    "\n",
    "                # val_logits = torch.nn.functional.log_softmax(val_logits, dim=2)\n",
    "                val_loss += ctc_loss(val_logits, val_targets, val_logit_lengths, val_target_lengths).item()\n",
    "                # print(f\"Val Logits {val_logits} , ValLog Shape {val_logits.shape}\")\n",
    "\n",
    "                _, predicted_labels = torch.max(val_logits, 2)\n",
    "                # print(f\"Before decoding : {predicted_labels} , PredLabel Shape {predicted_labels.shape}\")\n",
    "                preds = [\"\".join([dataset.char_list[c] for c in row if c != 0]) for row in predicted_labels.cpu().numpy()]\n",
    "                val_target_labels = [\"\".join([dataset.char_list[c] for c in row if c != 0]) for row in val_targets.cpu().numpy()]\n",
    "                correct = sum(pred == target for pred, target in zip(preds, val_target_labels))\n",
    "                val_tot_correct += correct                \n",
    "                # print(predicted_labels)\n",
    "\n",
    "                for pred, target in zip(predicted_labels, val_targets.cpu().numpy()):\n",
    "                    # print(pred)\n",
    "                    distance = levenshtein_distance(pred, \"\".join([dataset.char_list[c] for c in target if c != 0]))\n",
    "                    writer.add_scalar('LevenshteinDistance/Validation', distance, epoch)\n",
    "\n",
    "        avg_val_loss = val_loss / len(val_loader)\n",
    "        val_accuracy = val_tot_correct / val_tot_samples \n",
    "        writer.add_scalar('Loss/Validation', avg_val_loss, epoch)\n",
    "        writer.add_scalar('Accuracy/Validation', val_accuracy, epoch)\n",
    "        crnn_model.train()\n",
    "\n",
    "        print(f'Validation Loss: {avg_val_loss:.4f}')\n",
    "\n",
    "torch.save(crnn_model.state_dict(), 'chk_pts/crnn_model.pth')\n",
    "writer.close()"
   ]
  },
  {
   "cell_type": "markdown",
   "metadata": {},
   "source": [
    "## Evaluation"
   ]
  },
  {
   "cell_type": "code",
   "execution_count": 14,
   "metadata": {},
   "outputs": [
    {
     "name": "stdout",
     "output_type": "stream",
     "text": [
      "torch.Size([1, 1, 64, 200])\n",
      "Original Label: से३२श्रेयान्द्रव्यमयाद्यज्ञा\n",
      "Predicted Label: षैःषॐैरिॐॐॐॐरयररिॐरॐररर\n"
     ]
    },
    {
     "data": {
      "image/png": "[encoded data removed]",
      "text/plain": [
       "<Figure size 640x480 with 1 Axes>"
      ]
     },
     "metadata": {},
     "output_type": "display_data"
    }
   ],
   "source": [
    "crnn_model.eval()\n",
    "with torch.no_grad():\n",
    "  data = next(iter(val_loader))\n",
    "  img, label_, label_len = data\n",
    "  img = img.to(device)\n",
    "  print(img[0].unsqueeze(0).shape)\n",
    "  label_ = label_.to(device)\n",
    "  _logits = crnn_model(img[0].unsqueeze(0))\n",
    "  _, predicted_labels = torch.max(_logits, 2)\n",
    "\n",
    "  predicted_labels = \"\".join([dataset.char_list[c] for c in predicted_labels.flatten().cpu().numpy() if c != 0])\n",
    "  # _label = \"\".join([dataset.idx_to_char.get(c) for c in predicted_labels.cpu().numpy() if c!=-1])\n",
    "\n",
    "\n",
    "  label_ = \"\".join([dataset.idx_to_char.get(c) for c in label_[0].cpu().numpy() if c!=0])\n",
    "  image = img[0].permute((1, 2, 0)).cpu()\n",
    "  print(f\"Original Label: {label_}\")\n",
    "  print(f\"Predicted Label: {predicted_labels}\")\n",
    "  plt.imshow(image)"
   ]
  },
  {
   "cell_type": "code",
   "execution_count": null,
   "metadata": {},
   "outputs": [],
   "source": []
  },
  {
   "cell_type": "code",
   "execution_count": null,
   "metadata": {},
   "outputs": [],
   "source": []
  }
 ],
 "metadata": {
  "kernelspec": {
   "display_name": "sharada_env",
   "language": "python",
   "name": "python3"
  },
  "language_info": {
   "codemirror_mode": {
    "name": "ipython",
    "version": 3
   },
   "file_extension": ".py",
   "mimetype": "text/x-python",
   "name": "python",
   "nbconvert_exporter": "python",
   "pygments_lexer": "ipython3",
   "version": "3.10.12"
  }
 },
 "nbformat": 4,
 "nbformat_minor": 2
}
